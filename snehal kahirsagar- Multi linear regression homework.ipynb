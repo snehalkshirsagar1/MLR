{
 "cells": [
  {
   "cell_type": "markdown",
   "metadata": {
    "id": "t-jSPbnsZtUx"
   },
   "source": [
    "# Objective\n",
    "\n",
    "* Identify the Which Platform have more impact on Sales \n",
    "\n",
    "* To build the Model which will help to Predict the future sales based on Money invest in Different Platform "
   ]
  },
  {
   "cell_type": "code",
   "execution_count": 46,
   "metadata": {
    "id": "IcWIgUNWZtU1"
   },
   "outputs": [],
   "source": [
    "################################## Data Analysis & Calculation ##################################\n",
    "\n",
    "import pandas as pd \n",
    "import numpy as np \n",
    "\n",
    "################# Machine Learning ################\n",
    "import statsmodels\n",
    "from statsmodels.stats.anova import anova_lm\n",
    "from statsmodels.stats.outliers_influence import variance_inflation_factor\n",
    "\n",
    "################# Data Visualization ################\n",
    "import seaborn as sns\n",
    "from matplotlib import pyplot as plt\n",
    "%matplotlib inline\n"
   ]
  },
  {
   "cell_type": "markdown",
   "metadata": {
    "id": "EuONRNRcZtU2"
   },
   "source": [
    "# Data Import"
   ]
  },
  {
   "cell_type": "code",
   "execution_count": 47,
   "metadata": {
    "id": "kWSOBZ8qZtU2",
    "outputId": "02504734-1daa-4fd3-edb2-c5096488234a"
   },
   "outputs": [
    {
     "data": {
      "text/html": [
       "<div>\n",
       "<style scoped>\n",
       "    .dataframe tbody tr th:only-of-type {\n",
       "        vertical-align: middle;\n",
       "    }\n",
       "\n",
       "    .dataframe tbody tr th {\n",
       "        vertical-align: top;\n",
       "    }\n",
       "\n",
       "    .dataframe thead th {\n",
       "        text-align: right;\n",
       "    }\n",
       "</style>\n",
       "<table border=\"1\" class=\"dataframe\">\n",
       "  <thead>\n",
       "    <tr style=\"text-align: right;\">\n",
       "      <th></th>\n",
       "      <th>City</th>\n",
       "      <th>Number_of_weekly_riders</th>\n",
       "      <th>price_per_week</th>\n",
       "      <th>Population_of_city</th>\n",
       "      <th>Monthly_income_of_rider</th>\n",
       "      <th>Average_parking_rate_month</th>\n",
       "    </tr>\n",
       "  </thead>\n",
       "  <tbody>\n",
       "    <tr>\n",
       "      <th>0</th>\n",
       "      <td>1</td>\n",
       "      <td>190400</td>\n",
       "      <td>15</td>\n",
       "      <td>1790000</td>\n",
       "      <td>6200</td>\n",
       "      <td>50</td>\n",
       "    </tr>\n",
       "    <tr>\n",
       "      <th>1</th>\n",
       "      <td>2</td>\n",
       "      <td>191200</td>\n",
       "      <td>15</td>\n",
       "      <td>1780000</td>\n",
       "      <td>6400</td>\n",
       "      <td>60</td>\n",
       "    </tr>\n",
       "    <tr>\n",
       "      <th>2</th>\n",
       "      <td>3</td>\n",
       "      <td>177600</td>\n",
       "      <td>25</td>\n",
       "      <td>1778000</td>\n",
       "      <td>6500</td>\n",
       "      <td>60</td>\n",
       "    </tr>\n",
       "    <tr>\n",
       "      <th>3</th>\n",
       "      <td>4</td>\n",
       "      <td>176800</td>\n",
       "      <td>25</td>\n",
       "      <td>1750000</td>\n",
       "      <td>6550</td>\n",
       "      <td>60</td>\n",
       "    </tr>\n",
       "    <tr>\n",
       "      <th>4</th>\n",
       "      <td>5</td>\n",
       "      <td>178400</td>\n",
       "      <td>25</td>\n",
       "      <td>1740000</td>\n",
       "      <td>6580</td>\n",
       "      <td>70</td>\n",
       "    </tr>\n",
       "    <tr>\n",
       "      <th>5</th>\n",
       "      <td>6</td>\n",
       "      <td>180800</td>\n",
       "      <td>25</td>\n",
       "      <td>1725000</td>\n",
       "      <td>8200</td>\n",
       "      <td>75</td>\n",
       "    </tr>\n",
       "    <tr>\n",
       "      <th>6</th>\n",
       "      <td>7</td>\n",
       "      <td>175200</td>\n",
       "      <td>30</td>\n",
       "      <td>1725000</td>\n",
       "      <td>8600</td>\n",
       "      <td>75</td>\n",
       "    </tr>\n",
       "    <tr>\n",
       "      <th>7</th>\n",
       "      <td>8</td>\n",
       "      <td>174400</td>\n",
       "      <td>30</td>\n",
       "      <td>1720000</td>\n",
       "      <td>8800</td>\n",
       "      <td>75</td>\n",
       "    </tr>\n",
       "    <tr>\n",
       "      <th>8</th>\n",
       "      <td>9</td>\n",
       "      <td>173920</td>\n",
       "      <td>30</td>\n",
       "      <td>1705000</td>\n",
       "      <td>9200</td>\n",
       "      <td>80</td>\n",
       "    </tr>\n",
       "    <tr>\n",
       "      <th>9</th>\n",
       "      <td>10</td>\n",
       "      <td>172800</td>\n",
       "      <td>30</td>\n",
       "      <td>1710000</td>\n",
       "      <td>9630</td>\n",
       "      <td>80</td>\n",
       "    </tr>\n",
       "    <tr>\n",
       "      <th>10</th>\n",
       "      <td>11</td>\n",
       "      <td>163200</td>\n",
       "      <td>40</td>\n",
       "      <td>1700000</td>\n",
       "      <td>10570</td>\n",
       "      <td>80</td>\n",
       "    </tr>\n",
       "    <tr>\n",
       "      <th>11</th>\n",
       "      <td>12</td>\n",
       "      <td>161600</td>\n",
       "      <td>40</td>\n",
       "      <td>1695000</td>\n",
       "      <td>11330</td>\n",
       "      <td>85</td>\n",
       "    </tr>\n",
       "    <tr>\n",
       "      <th>12</th>\n",
       "      <td>13</td>\n",
       "      <td>161600</td>\n",
       "      <td>40</td>\n",
       "      <td>1695000</td>\n",
       "      <td>11600</td>\n",
       "      <td>100</td>\n",
       "    </tr>\n",
       "    <tr>\n",
       "      <th>13</th>\n",
       "      <td>14</td>\n",
       "      <td>160800</td>\n",
       "      <td>40</td>\n",
       "      <td>1690000</td>\n",
       "      <td>11800</td>\n",
       "      <td>105</td>\n",
       "    </tr>\n",
       "    <tr>\n",
       "      <th>14</th>\n",
       "      <td>15</td>\n",
       "      <td>159200</td>\n",
       "      <td>40</td>\n",
       "      <td>1630000</td>\n",
       "      <td>11830</td>\n",
       "      <td>105</td>\n",
       "    </tr>\n",
       "    <tr>\n",
       "      <th>15</th>\n",
       "      <td>16</td>\n",
       "      <td>148800</td>\n",
       "      <td>65</td>\n",
       "      <td>1640000</td>\n",
       "      <td>12650</td>\n",
       "      <td>105</td>\n",
       "    </tr>\n",
       "    <tr>\n",
       "      <th>16</th>\n",
       "      <td>17</td>\n",
       "      <td>115696</td>\n",
       "      <td>102</td>\n",
       "      <td>1635000</td>\n",
       "      <td>13000</td>\n",
       "      <td>110</td>\n",
       "    </tr>\n",
       "    <tr>\n",
       "      <th>17</th>\n",
       "      <td>18</td>\n",
       "      <td>147200</td>\n",
       "      <td>75</td>\n",
       "      <td>1630000</td>\n",
       "      <td>13224</td>\n",
       "      <td>125</td>\n",
       "    </tr>\n",
       "    <tr>\n",
       "      <th>18</th>\n",
       "      <td>19</td>\n",
       "      <td>150400</td>\n",
       "      <td>75</td>\n",
       "      <td>1620000</td>\n",
       "      <td>13766</td>\n",
       "      <td>130</td>\n",
       "    </tr>\n",
       "    <tr>\n",
       "      <th>19</th>\n",
       "      <td>20</td>\n",
       "      <td>152000</td>\n",
       "      <td>75</td>\n",
       "      <td>1615000</td>\n",
       "      <td>14010</td>\n",
       "      <td>150</td>\n",
       "    </tr>\n",
       "    <tr>\n",
       "      <th>20</th>\n",
       "      <td>21</td>\n",
       "      <td>136000</td>\n",
       "      <td>80</td>\n",
       "      <td>1605000</td>\n",
       "      <td>14468</td>\n",
       "      <td>155</td>\n",
       "    </tr>\n",
       "    <tr>\n",
       "      <th>21</th>\n",
       "      <td>22</td>\n",
       "      <td>126240</td>\n",
       "      <td>86</td>\n",
       "      <td>1590000</td>\n",
       "      <td>15000</td>\n",
       "      <td>165</td>\n",
       "    </tr>\n",
       "    <tr>\n",
       "      <th>22</th>\n",
       "      <td>23</td>\n",
       "      <td>123888</td>\n",
       "      <td>98</td>\n",
       "      <td>1595000</td>\n",
       "      <td>15200</td>\n",
       "      <td>175</td>\n",
       "    </tr>\n",
       "    <tr>\n",
       "      <th>23</th>\n",
       "      <td>24</td>\n",
       "      <td>126080</td>\n",
       "      <td>87</td>\n",
       "      <td>1590000</td>\n",
       "      <td>15600</td>\n",
       "      <td>175</td>\n",
       "    </tr>\n",
       "    <tr>\n",
       "      <th>24</th>\n",
       "      <td>25</td>\n",
       "      <td>151680</td>\n",
       "      <td>77</td>\n",
       "      <td>1600000</td>\n",
       "      <td>16000</td>\n",
       "      <td>190</td>\n",
       "    </tr>\n",
       "    <tr>\n",
       "      <th>25</th>\n",
       "      <td>26</td>\n",
       "      <td>152800</td>\n",
       "      <td>63</td>\n",
       "      <td>1610000</td>\n",
       "      <td>16200</td>\n",
       "      <td>200</td>\n",
       "    </tr>\n",
       "  </tbody>\n",
       "</table>\n",
       "</div>"
      ],
      "text/plain": [
       "    City  Number_of_weekly_riders  price_per_week  Population_of_city  \\\n",
       "0      1                   190400              15             1790000   \n",
       "1      2                   191200              15             1780000   \n",
       "2      3                   177600              25             1778000   \n",
       "3      4                   176800              25             1750000   \n",
       "4      5                   178400              25             1740000   \n",
       "5      6                   180800              25             1725000   \n",
       "6      7                   175200              30             1725000   \n",
       "7      8                   174400              30             1720000   \n",
       "8      9                   173920              30             1705000   \n",
       "9     10                   172800              30             1710000   \n",
       "10    11                   163200              40             1700000   \n",
       "11    12                   161600              40             1695000   \n",
       "12    13                   161600              40             1695000   \n",
       "13    14                   160800              40             1690000   \n",
       "14    15                   159200              40             1630000   \n",
       "15    16                   148800              65             1640000   \n",
       "16    17                   115696             102             1635000   \n",
       "17    18                   147200              75             1630000   \n",
       "18    19                   150400              75             1620000   \n",
       "19    20                   152000              75             1615000   \n",
       "20    21                   136000              80             1605000   \n",
       "21    22                   126240              86             1590000   \n",
       "22    23                   123888              98             1595000   \n",
       "23    24                   126080              87             1590000   \n",
       "24    25                   151680              77             1600000   \n",
       "25    26                   152800              63             1610000   \n",
       "\n",
       "    Monthly_income_of_rider  Average_parking_rate_month  \n",
       "0                      6200                          50  \n",
       "1                      6400                          60  \n",
       "2                      6500                          60  \n",
       "3                      6550                          60  \n",
       "4                      6580                          70  \n",
       "5                      8200                          75  \n",
       "6                      8600                          75  \n",
       "7                      8800                          75  \n",
       "8                      9200                          80  \n",
       "9                      9630                          80  \n",
       "10                    10570                          80  \n",
       "11                    11330                          85  \n",
       "12                    11600                         100  \n",
       "13                    11800                         105  \n",
       "14                    11830                         105  \n",
       "15                    12650                         105  \n",
       "16                    13000                         110  \n",
       "17                    13224                         125  \n",
       "18                    13766                         130  \n",
       "19                    14010                         150  \n",
       "20                    14468                         155  \n",
       "21                    15000                         165  \n",
       "22                    15200                         175  \n",
       "23                    15600                         175  \n",
       "24                    16000                         190  \n",
       "25                    16200                         200  "
      ]
     },
     "execution_count": 47,
     "metadata": {},
     "output_type": "execute_result"
    }
   ],
   "source": [
    "new = pd.read_excel(r\"C:\\Users\\sneha\\Downloads\\snehalksh4.xlsx\")\n",
    "\n",
    "new"
   ]
  },
  {
   "cell_type": "code",
   "execution_count": 48,
   "metadata": {},
   "outputs": [
    {
     "data": {
      "text/plain": [
       "Index(['City', 'Number_of_weekly_riders', 'price_per_week',\n",
       "       'Population_of_city', 'Monthly_income_of_rider',\n",
       "       'Average_parking_rate_month'],\n",
       "      dtype='object')"
      ]
     },
     "execution_count": 48,
     "metadata": {},
     "output_type": "execute_result"
    }
   ],
   "source": [
    "new.columns"
   ]
  },
  {
   "cell_type": "code",
   "execution_count": 49,
   "metadata": {
    "id": "0r0HOFRyZtU4",
    "outputId": "d839535d-a924-47ec-b85c-a81fb9794ef9",
    "scrolled": true
   },
   "outputs": [
    {
     "data": {
      "text/html": [
       "<div>\n",
       "<style scoped>\n",
       "    .dataframe tbody tr th:only-of-type {\n",
       "        vertical-align: middle;\n",
       "    }\n",
       "\n",
       "    .dataframe tbody tr th {\n",
       "        vertical-align: top;\n",
       "    }\n",
       "\n",
       "    .dataframe thead th {\n",
       "        text-align: right;\n",
       "    }\n",
       "</style>\n",
       "<table border=\"1\" class=\"dataframe\">\n",
       "  <thead>\n",
       "    <tr style=\"text-align: right;\">\n",
       "      <th></th>\n",
       "      <th>City</th>\n",
       "      <th>Number_of_weekly_riders</th>\n",
       "      <th>price_per_week</th>\n",
       "      <th>Population_of_city</th>\n",
       "      <th>Monthly_income_of_rider</th>\n",
       "      <th>Average_parking_rate_month</th>\n",
       "    </tr>\n",
       "  </thead>\n",
       "  <tbody>\n",
       "    <tr>\n",
       "      <th>count</th>\n",
       "      <td>26.000000</td>\n",
       "      <td>26.000000</td>\n",
       "      <td>26.000000</td>\n",
       "      <td>2.600000e+01</td>\n",
       "      <td>26.000000</td>\n",
       "      <td>26.000000</td>\n",
       "    </tr>\n",
       "    <tr>\n",
       "      <th>mean</th>\n",
       "      <td>13.500000</td>\n",
       "      <td>158796.307692</td>\n",
       "      <td>51.269231</td>\n",
       "      <td>1.675500e+06</td>\n",
       "      <td>11265.692308</td>\n",
       "      <td>109.230769</td>\n",
       "    </tr>\n",
       "    <tr>\n",
       "      <th>std</th>\n",
       "      <td>7.648529</td>\n",
       "      <td>20722.454493</td>\n",
       "      <td>27.261046</td>\n",
       "      <td>6.468462e+04</td>\n",
       "      <td>3315.054470</td>\n",
       "      <td>44.759185</td>\n",
       "    </tr>\n",
       "    <tr>\n",
       "      <th>min</th>\n",
       "      <td>1.000000</td>\n",
       "      <td>115696.000000</td>\n",
       "      <td>15.000000</td>\n",
       "      <td>1.590000e+06</td>\n",
       "      <td>6200.000000</td>\n",
       "      <td>50.000000</td>\n",
       "    </tr>\n",
       "    <tr>\n",
       "      <th>25%</th>\n",
       "      <td>7.250000</td>\n",
       "      <td>149200.000000</td>\n",
       "      <td>30.000000</td>\n",
       "      <td>1.616250e+06</td>\n",
       "      <td>8650.000000</td>\n",
       "      <td>75.000000</td>\n",
       "    </tr>\n",
       "    <tr>\n",
       "      <th>50%</th>\n",
       "      <td>13.500000</td>\n",
       "      <td>161200.000000</td>\n",
       "      <td>40.000000</td>\n",
       "      <td>1.692500e+06</td>\n",
       "      <td>11700.000000</td>\n",
       "      <td>102.500000</td>\n",
       "    </tr>\n",
       "    <tr>\n",
       "      <th>75%</th>\n",
       "      <td>19.750000</td>\n",
       "      <td>175000.000000</td>\n",
       "      <td>75.000000</td>\n",
       "      <td>1.723750e+06</td>\n",
       "      <td>13949.000000</td>\n",
       "      <td>145.000000</td>\n",
       "    </tr>\n",
       "    <tr>\n",
       "      <th>max</th>\n",
       "      <td>26.000000</td>\n",
       "      <td>191200.000000</td>\n",
       "      <td>102.000000</td>\n",
       "      <td>1.790000e+06</td>\n",
       "      <td>16200.000000</td>\n",
       "      <td>200.000000</td>\n",
       "    </tr>\n",
       "  </tbody>\n",
       "</table>\n",
       "</div>"
      ],
      "text/plain": [
       "            City  Number_of_weekly_riders  price_per_week  Population_of_city  \\\n",
       "count  26.000000                26.000000       26.000000        2.600000e+01   \n",
       "mean   13.500000            158796.307692       51.269231        1.675500e+06   \n",
       "std     7.648529             20722.454493       27.261046        6.468462e+04   \n",
       "min     1.000000            115696.000000       15.000000        1.590000e+06   \n",
       "25%     7.250000            149200.000000       30.000000        1.616250e+06   \n",
       "50%    13.500000            161200.000000       40.000000        1.692500e+06   \n",
       "75%    19.750000            175000.000000       75.000000        1.723750e+06   \n",
       "max    26.000000            191200.000000      102.000000        1.790000e+06   \n",
       "\n",
       "       Monthly_income_of_rider  Average_parking_rate_month  \n",
       "count                26.000000                   26.000000  \n",
       "mean              11265.692308                  109.230769  \n",
       "std                3315.054470                   44.759185  \n",
       "min                6200.000000                   50.000000  \n",
       "25%                8650.000000                   75.000000  \n",
       "50%               11700.000000                  102.500000  \n",
       "75%               13949.000000                  145.000000  \n",
       "max               16200.000000                  200.000000  "
      ]
     },
     "execution_count": 49,
     "metadata": {},
     "output_type": "execute_result"
    }
   ],
   "source": [
    "# Let's look at some statistical information about our dataframe.\n",
    "new.describe() "
   ]
  },
  {
   "cell_type": "markdown",
   "metadata": {
    "id": "1IQuwwd4ZtU4"
   },
   "source": [
    "# EDA\n",
    "* Identify & Treatment of Outlier "
   ]
  },
  {
   "cell_type": "code",
   "execution_count": 50,
   "metadata": {
    "id": "64-CfpVoZtU4",
    "outputId": "f66e100c-ed8a-4eab-c58d-78ee6503c76d"
   },
   "outputs": [
    {
     "data": {
      "text/plain": [
       "<AxesSubplot:>"
      ]
     },
     "execution_count": 50,
     "metadata": {},
     "output_type": "execute_result"
    },
    {
     "data": {
      "image/png": "[encoded data removed]",
      "text/plain": [
       "<Figure size 640x480 with 1 Axes>"
      ]
     },
     "metadata": {},
     "output_type": "display_data"
    }
   ],
   "source": [
    "sns.boxplot(data=new)"
   ]
  },
  {
   "cell_type": "markdown",
   "metadata": {
    "id": "K6ejXFCdZtU6"
   },
   "source": [
    "### Missing Value"
   ]
  },
  {
   "cell_type": "code",
   "execution_count": 51,
   "metadata": {
    "id": "Xc3F-wuTZtU6",
    "outputId": "d53d461e-76c9-453a-f506-2ab2e80187df"
   },
   "outputs": [
    {
     "data": {
      "text/plain": [
       "City                          0\n",
       "Number_of_weekly_riders       0\n",
       "price_per_week                0\n",
       "Population_of_city            0\n",
       "Monthly_income_of_rider       0\n",
       "Average_parking_rate_month    0\n",
       "dtype: int64"
      ]
     },
     "execution_count": 51,
     "metadata": {},
     "output_type": "execute_result"
    }
   ],
   "source": [
    "new.isna().sum()  "
   ]
  },
  {
   "cell_type": "code",
   "execution_count": 52,
   "metadata": {
    "id": "gBrreqvtZtU6",
    "outputId": "3de1c7be-dda8-425b-bb8b-a166890dd513"
   },
   "outputs": [
    {
     "data": {
      "text/html": [
       "<div>\n",
       "<style scoped>\n",
       "    .dataframe tbody tr th:only-of-type {\n",
       "        vertical-align: middle;\n",
       "    }\n",
       "\n",
       "    .dataframe tbody tr th {\n",
       "        vertical-align: top;\n",
       "    }\n",
       "\n",
       "    .dataframe thead th {\n",
       "        text-align: right;\n",
       "    }\n",
       "</style>\n",
       "<table border=\"1\" class=\"dataframe\">\n",
       "  <thead>\n",
       "    <tr style=\"text-align: right;\">\n",
       "      <th></th>\n",
       "      <th>City</th>\n",
       "      <th>Number_of_weekly_riders</th>\n",
       "      <th>price_per_week</th>\n",
       "      <th>Population_of_city</th>\n",
       "      <th>Monthly_income_of_rider</th>\n",
       "      <th>Average_parking_rate_month</th>\n",
       "    </tr>\n",
       "  </thead>\n",
       "  <tbody>\n",
       "    <tr>\n",
       "      <th>0</th>\n",
       "      <td>1</td>\n",
       "      <td>190400</td>\n",
       "      <td>15</td>\n",
       "      <td>1790000</td>\n",
       "      <td>6200</td>\n",
       "      <td>50</td>\n",
       "    </tr>\n",
       "    <tr>\n",
       "      <th>1</th>\n",
       "      <td>2</td>\n",
       "      <td>191200</td>\n",
       "      <td>15</td>\n",
       "      <td>1780000</td>\n",
       "      <td>6400</td>\n",
       "      <td>60</td>\n",
       "    </tr>\n",
       "    <tr>\n",
       "      <th>2</th>\n",
       "      <td>3</td>\n",
       "      <td>177600</td>\n",
       "      <td>25</td>\n",
       "      <td>1778000</td>\n",
       "      <td>6500</td>\n",
       "      <td>60</td>\n",
       "    </tr>\n",
       "    <tr>\n",
       "      <th>3</th>\n",
       "      <td>4</td>\n",
       "      <td>176800</td>\n",
       "      <td>25</td>\n",
       "      <td>1750000</td>\n",
       "      <td>6550</td>\n",
       "      <td>60</td>\n",
       "    </tr>\n",
       "    <tr>\n",
       "      <th>4</th>\n",
       "      <td>5</td>\n",
       "      <td>178400</td>\n",
       "      <td>25</td>\n",
       "      <td>1740000</td>\n",
       "      <td>6580</td>\n",
       "      <td>70</td>\n",
       "    </tr>\n",
       "  </tbody>\n",
       "</table>\n",
       "</div>"
      ],
      "text/plain": [
       "   City  Number_of_weekly_riders  price_per_week  Population_of_city  \\\n",
       "0     1                   190400              15             1790000   \n",
       "1     2                   191200              15             1780000   \n",
       "2     3                   177600              25             1778000   \n",
       "3     4                   176800              25             1750000   \n",
       "4     5                   178400              25             1740000   \n",
       "\n",
       "   Monthly_income_of_rider  Average_parking_rate_month  \n",
       "0                     6200                          50  \n",
       "1                     6400                          60  \n",
       "2                     6500                          60  \n",
       "3                     6550                          60  \n",
       "4                     6580                          70  "
      ]
     },
     "execution_count": 52,
     "metadata": {},
     "output_type": "execute_result"
    }
   ],
   "source": [
    "new.head()"
   ]
  },
  {
   "cell_type": "code",
   "execution_count": 53,
   "metadata": {},
   "outputs": [
    {
     "data": {
      "text/plain": [
       "Index(['City', 'Number_of_weekly_riders', 'price_per_week',\n",
       "       'Population_of_city', 'Monthly_income_of_rider',\n",
       "       'Average_parking_rate_month'],\n",
       "      dtype='object')"
      ]
     },
     "execution_count": 53,
     "metadata": {},
     "output_type": "execute_result"
    }
   ],
   "source": [
    "new.columns"
   ]
  },
  {
   "cell_type": "code",
   "execution_count": 54,
   "metadata": {},
   "outputs": [],
   "source": [
    "new.Average_parking_rate_month = np.log(new.Average_parking_rate_month)"
   ]
  },
  {
   "cell_type": "code",
   "execution_count": 55,
   "metadata": {
    "id": "8ss5HWgmZtU6"
   },
   "outputs": [],
   "source": [
    "# Putting feature variable to X\n",
    "X = new.drop('Average_parking_rate_month',axis=1)\n",
    "\n",
    "# Putting response variable to y\n",
    "y = new[['Average_parking_rate_month']]\n",
    "\n",
    "#random_state is the seed used by the random number generator. It can be any integer.\n",
    "from sklearn.model_selection import train_test_split\n",
    "X_train, X_test, y_train, y_test =train_test_split(X, y, train_size=0.7 ,random_state=100)"
   ]
  },
  {
   "cell_type": "code",
   "execution_count": 56,
   "metadata": {
    "id": "xmgJzGEeZtU6",
    "outputId": "5966466b-a564-4402-c04e-d05d47afa33a"
   },
   "outputs": [
    {
     "data": {
      "text/html": [
       "<div>\n",
       "<style scoped>\n",
       "    .dataframe tbody tr th:only-of-type {\n",
       "        vertical-align: middle;\n",
       "    }\n",
       "\n",
       "    .dataframe tbody tr th {\n",
       "        vertical-align: top;\n",
       "    }\n",
       "\n",
       "    .dataframe thead th {\n",
       "        text-align: right;\n",
       "    }\n",
       "</style>\n",
       "<table border=\"1\" class=\"dataframe\">\n",
       "  <thead>\n",
       "    <tr style=\"text-align: right;\">\n",
       "      <th></th>\n",
       "      <th>Average_parking_rate_month</th>\n",
       "      <th>City</th>\n",
       "      <th>Number_of_weekly_riders</th>\n",
       "      <th>price_per_week</th>\n",
       "      <th>Population_of_city</th>\n",
       "      <th>Monthly_income_of_rider</th>\n",
       "    </tr>\n",
       "  </thead>\n",
       "  <tbody>\n",
       "    <tr>\n",
       "      <th>6</th>\n",
       "      <td>4.317488</td>\n",
       "      <td>7</td>\n",
       "      <td>175200</td>\n",
       "      <td>30</td>\n",
       "      <td>1725000</td>\n",
       "      <td>8600</td>\n",
       "    </tr>\n",
       "    <tr>\n",
       "      <th>12</th>\n",
       "      <td>4.605170</td>\n",
       "      <td>13</td>\n",
       "      <td>161600</td>\n",
       "      <td>40</td>\n",
       "      <td>1695000</td>\n",
       "      <td>11600</td>\n",
       "    </tr>\n",
       "    <tr>\n",
       "      <th>4</th>\n",
       "      <td>4.248495</td>\n",
       "      <td>5</td>\n",
       "      <td>178400</td>\n",
       "      <td>25</td>\n",
       "      <td>1740000</td>\n",
       "      <td>6580</td>\n",
       "    </tr>\n",
       "    <tr>\n",
       "      <th>25</th>\n",
       "      <td>5.298317</td>\n",
       "      <td>26</td>\n",
       "      <td>152800</td>\n",
       "      <td>63</td>\n",
       "      <td>1610000</td>\n",
       "      <td>16200</td>\n",
       "    </tr>\n",
       "    <tr>\n",
       "      <th>0</th>\n",
       "      <td>3.912023</td>\n",
       "      <td>1</td>\n",
       "      <td>190400</td>\n",
       "      <td>15</td>\n",
       "      <td>1790000</td>\n",
       "      <td>6200</td>\n",
       "    </tr>\n",
       "  </tbody>\n",
       "</table>\n",
       "</div>"
      ],
      "text/plain": [
       "    Average_parking_rate_month  City  Number_of_weekly_riders  price_per_week  \\\n",
       "6                     4.317488     7                   175200              30   \n",
       "12                    4.605170    13                   161600              40   \n",
       "4                     4.248495     5                   178400              25   \n",
       "25                    5.298317    26                   152800              63   \n",
       "0                     3.912023     1                   190400              15   \n",
       "\n",
       "    Population_of_city  Monthly_income_of_rider  \n",
       "6              1725000                     8600  \n",
       "12             1695000                    11600  \n",
       "4              1740000                     6580  \n",
       "25             1610000                    16200  \n",
       "0              1790000                     6200  "
      ]
     },
     "execution_count": 56,
     "metadata": {},
     "output_type": "execute_result"
    }
   ],
   "source": [
    "df = pd.concat([y_train, X_train], axis=1)\n",
    "df.head()"
   ]
  },
  {
   "cell_type": "code",
   "execution_count": 57,
   "metadata": {},
   "outputs": [
    {
     "data": {
      "text/plain": [
       "<AxesSubplot:title={'center':'Average_parking_rate_month vs City'}, xlabel='City', ylabel='Average_parking_rate_month'>"
      ]
     },
     "execution_count": 57,
     "metadata": {},
     "output_type": "execute_result"
    },
    {
     "data": {
      "image/png": "[encoded data removed]",
      "text/plain": [
       "<Figure size 640x480 with 1 Axes>"
      ]
     },
     "metadata": {},
     "output_type": "display_data"
    }
   ],
   "source": [
    "df.plot.scatter(x='City', y='Average_parking_rate_month', title='Average_parking_rate_month vs City')"
   ]
  },
  {
   "cell_type": "code",
   "execution_count": 58,
   "metadata": {},
   "outputs": [
    {
     "data": {
      "text/html": [
       "<div>\n",
       "<style scoped>\n",
       "    .dataframe tbody tr th:only-of-type {\n",
       "        vertical-align: middle;\n",
       "    }\n",
       "\n",
       "    .dataframe tbody tr th {\n",
       "        vertical-align: top;\n",
       "    }\n",
       "\n",
       "    .dataframe thead th {\n",
       "        text-align: right;\n",
       "    }\n",
       "</style>\n",
       "<table border=\"1\" class=\"dataframe\">\n",
       "  <thead>\n",
       "    <tr style=\"text-align: right;\">\n",
       "      <th></th>\n",
       "      <th>Average_parking_rate_month</th>\n",
       "      <th>City</th>\n",
       "      <th>Number_of_weekly_riders</th>\n",
       "      <th>price_per_week</th>\n",
       "      <th>Population_of_city</th>\n",
       "      <th>Monthly_income_of_rider</th>\n",
       "    </tr>\n",
       "  </thead>\n",
       "  <tbody>\n",
       "    <tr>\n",
       "      <th>Average_parking_rate_month</th>\n",
       "      <td>1.000000</td>\n",
       "      <td>0.990796</td>\n",
       "      <td>-0.759305</td>\n",
       "      <td>0.821832</td>\n",
       "      <td>-0.948215</td>\n",
       "      <td>0.977139</td>\n",
       "    </tr>\n",
       "    <tr>\n",
       "      <th>City</th>\n",
       "      <td>0.990796</td>\n",
       "      <td>1.000000</td>\n",
       "      <td>-0.808000</td>\n",
       "      <td>0.859104</td>\n",
       "      <td>-0.970151</td>\n",
       "      <td>0.993810</td>\n",
       "    </tr>\n",
       "    <tr>\n",
       "      <th>Number_of_weekly_riders</th>\n",
       "      <td>-0.759305</td>\n",
       "      <td>-0.808000</td>\n",
       "      <td>1.000000</td>\n",
       "      <td>-0.964223</td>\n",
       "      <td>0.854954</td>\n",
       "      <td>-0.820027</td>\n",
       "    </tr>\n",
       "    <tr>\n",
       "      <th>price_per_week</th>\n",
       "      <td>0.821832</td>\n",
       "      <td>0.859104</td>\n",
       "      <td>-0.964223</td>\n",
       "      <td>1.000000</td>\n",
       "      <td>-0.880956</td>\n",
       "      <td>0.866903</td>\n",
       "    </tr>\n",
       "    <tr>\n",
       "      <th>Population_of_city</th>\n",
       "      <td>-0.948215</td>\n",
       "      <td>-0.970151</td>\n",
       "      <td>0.854954</td>\n",
       "      <td>-0.880956</td>\n",
       "      <td>1.000000</td>\n",
       "      <td>-0.966239</td>\n",
       "    </tr>\n",
       "    <tr>\n",
       "      <th>Monthly_income_of_rider</th>\n",
       "      <td>0.977139</td>\n",
       "      <td>0.993810</td>\n",
       "      <td>-0.820027</td>\n",
       "      <td>0.866903</td>\n",
       "      <td>-0.966239</td>\n",
       "      <td>1.000000</td>\n",
       "    </tr>\n",
       "  </tbody>\n",
       "</table>\n",
       "</div>"
      ],
      "text/plain": [
       "                            Average_parking_rate_month      City  \\\n",
       "Average_parking_rate_month                    1.000000  0.990796   \n",
       "City                                          0.990796  1.000000   \n",
       "Number_of_weekly_riders                      -0.759305 -0.808000   \n",
       "price_per_week                                0.821832  0.859104   \n",
       "Population_of_city                           -0.948215 -0.970151   \n",
       "Monthly_income_of_rider                       0.977139  0.993810   \n",
       "\n",
       "                            Number_of_weekly_riders  price_per_week  \\\n",
       "Average_parking_rate_month                -0.759305        0.821832   \n",
       "City                                      -0.808000        0.859104   \n",
       "Number_of_weekly_riders                    1.000000       -0.964223   \n",
       "price_per_week                            -0.964223        1.000000   \n",
       "Population_of_city                         0.854954       -0.880956   \n",
       "Monthly_income_of_rider                   -0.820027        0.866903   \n",
       "\n",
       "                            Population_of_city  Monthly_income_of_rider  \n",
       "Average_parking_rate_month           -0.948215                 0.977139  \n",
       "City                                 -0.970151                 0.993810  \n",
       "Number_of_weekly_riders               0.854954                -0.820027  \n",
       "price_per_week                       -0.880956                 0.866903  \n",
       "Population_of_city                    1.000000                -0.966239  \n",
       "Monthly_income_of_rider              -0.966239                 1.000000  "
      ]
     },
     "execution_count": 58,
     "metadata": {},
     "output_type": "execute_result"
    }
   ],
   "source": [
    "df.corr()"
   ]
  },
  {
   "cell_type": "code",
   "execution_count": 59,
   "metadata": {},
   "outputs": [
    {
     "data": {
      "text/plain": [
       "<AxesSubplot:>"
      ]
     },
     "execution_count": 59,
     "metadata": {},
     "output_type": "execute_result"
    },
    {
     "data": {
      "image/png": "[encoded data removed]",
      "text/plain": [
       "<Figure size 640x480 with 2 Axes>"
      ]
     },
     "metadata": {},
     "output_type": "display_data"
    }
   ],
   "source": [
    "sns.heatmap(df.corr(),annot = True)"
   ]
  },
  {
   "cell_type": "code",
   "execution_count": 60,
   "metadata": {
    "scrolled": true
   },
   "outputs": [
    {
     "data": {
      "text/plain": [
       "City                        344.004647\n",
       "Number_of_weekly_riders    1296.921210\n",
       "price_per_week               86.820639\n",
       "Population_of_city         2016.147741\n",
       "Monthly_income_of_rider     971.460614\n",
       "dtype: float64"
      ]
     },
     "execution_count": 60,
     "metadata": {},
     "output_type": "execute_result"
    }
   ],
   "source": [
    "X1=df.drop(['Average_parking_rate_month'],axis=1)\n",
    "series_before = pd.Series([variance_inflation_factor(X1.values, i) \n",
    "                           for i in range(X1.shape[1])],  # i=0,1,2\n",
    "                          index=X1.columns)  # column name\n",
    "series_before"
   ]
  },
  {
   "cell_type": "code",
   "execution_count": 61,
   "metadata": {},
   "outputs": [
    {
     "data": {
      "text/html": [
       "<div>\n",
       "<style scoped>\n",
       "    .dataframe tbody tr th:only-of-type {\n",
       "        vertical-align: middle;\n",
       "    }\n",
       "\n",
       "    .dataframe tbody tr th {\n",
       "        vertical-align: top;\n",
       "    }\n",
       "\n",
       "    .dataframe thead th {\n",
       "        text-align: right;\n",
       "    }\n",
       "</style>\n",
       "<table border=\"1\" class=\"dataframe\">\n",
       "  <thead>\n",
       "    <tr style=\"text-align: right;\">\n",
       "      <th></th>\n",
       "      <th>Average_parking_rate_month</th>\n",
       "      <th>City</th>\n",
       "      <th>Number_of_weekly_riders</th>\n",
       "      <th>price_per_week</th>\n",
       "      <th>Population_of_city</th>\n",
       "    </tr>\n",
       "  </thead>\n",
       "  <tbody>\n",
       "    <tr>\n",
       "      <th>6</th>\n",
       "      <td>4.317488</td>\n",
       "      <td>7</td>\n",
       "      <td>175200</td>\n",
       "      <td>30</td>\n",
       "      <td>1725000</td>\n",
       "    </tr>\n",
       "    <tr>\n",
       "      <th>12</th>\n",
       "      <td>4.605170</td>\n",
       "      <td>13</td>\n",
       "      <td>161600</td>\n",
       "      <td>40</td>\n",
       "      <td>1695000</td>\n",
       "    </tr>\n",
       "    <tr>\n",
       "      <th>4</th>\n",
       "      <td>4.248495</td>\n",
       "      <td>5</td>\n",
       "      <td>178400</td>\n",
       "      <td>25</td>\n",
       "      <td>1740000</td>\n",
       "    </tr>\n",
       "    <tr>\n",
       "      <th>25</th>\n",
       "      <td>5.298317</td>\n",
       "      <td>26</td>\n",
       "      <td>152800</td>\n",
       "      <td>63</td>\n",
       "      <td>1610000</td>\n",
       "    </tr>\n",
       "    <tr>\n",
       "      <th>0</th>\n",
       "      <td>3.912023</td>\n",
       "      <td>1</td>\n",
       "      <td>190400</td>\n",
       "      <td>15</td>\n",
       "      <td>1790000</td>\n",
       "    </tr>\n",
       "  </tbody>\n",
       "</table>\n",
       "</div>"
      ],
      "text/plain": [
       "    Average_parking_rate_month  City  Number_of_weekly_riders  price_per_week  \\\n",
       "6                     4.317488     7                   175200              30   \n",
       "12                    4.605170    13                   161600              40   \n",
       "4                     4.248495     5                   178400              25   \n",
       "25                    5.298317    26                   152800              63   \n",
       "0                     3.912023     1                   190400              15   \n",
       "\n",
       "    Population_of_city  \n",
       "6              1725000  \n",
       "12             1695000  \n",
       "4              1740000  \n",
       "25             1610000  \n",
       "0              1790000  "
      ]
     },
     "execution_count": 61,
     "metadata": {},
     "output_type": "execute_result"
    }
   ],
   "source": [
    "df =df = df.head().drop(['Monthly_income_of_rider'],axis=1) # axix=1  means column index\n",
    "df.head()"
   ]
  },
  {
   "cell_type": "code",
   "execution_count": 62,
   "metadata": {},
   "outputs": [
    {
     "data": {
      "text/plain": [
       "City                        488.448838\n",
       "Number_of_weekly_riders    3533.289930\n",
       "price_per_week             1224.206446\n",
       "Population_of_city         4994.944428\n",
       "dtype: float64"
      ]
     },
     "execution_count": 62,
     "metadata": {},
     "output_type": "execute_result"
    }
   ],
   "source": [
    "X1=df.drop(['Average_parking_rate_month'],axis=1)\n",
    "series_before = pd.Series([variance_inflation_factor(X1.values, i) \n",
    "                           for i in range(X1.shape[1])],  # i=0,1,2\n",
    "                          index=X1.columns)  # column name\n",
    "series_before"
   ]
  },
  {
   "cell_type": "code",
   "execution_count": 63,
   "metadata": {},
   "outputs": [
    {
     "data": {
      "text/html": [
       "<div>\n",
       "<style scoped>\n",
       "    .dataframe tbody tr th:only-of-type {\n",
       "        vertical-align: middle;\n",
       "    }\n",
       "\n",
       "    .dataframe tbody tr th {\n",
       "        vertical-align: top;\n",
       "    }\n",
       "\n",
       "    .dataframe thead th {\n",
       "        text-align: right;\n",
       "    }\n",
       "</style>\n",
       "<table border=\"1\" class=\"dataframe\">\n",
       "  <thead>\n",
       "    <tr style=\"text-align: right;\">\n",
       "      <th></th>\n",
       "      <th>Average_parking_rate_month</th>\n",
       "      <th>City</th>\n",
       "      <th>Number_of_weekly_riders</th>\n",
       "      <th>price_per_week</th>\n",
       "    </tr>\n",
       "  </thead>\n",
       "  <tbody>\n",
       "    <tr>\n",
       "      <th>6</th>\n",
       "      <td>4.317488</td>\n",
       "      <td>7</td>\n",
       "      <td>175200</td>\n",
       "      <td>30</td>\n",
       "    </tr>\n",
       "    <tr>\n",
       "      <th>12</th>\n",
       "      <td>4.605170</td>\n",
       "      <td>13</td>\n",
       "      <td>161600</td>\n",
       "      <td>40</td>\n",
       "    </tr>\n",
       "    <tr>\n",
       "      <th>4</th>\n",
       "      <td>4.248495</td>\n",
       "      <td>5</td>\n",
       "      <td>178400</td>\n",
       "      <td>25</td>\n",
       "    </tr>\n",
       "    <tr>\n",
       "      <th>25</th>\n",
       "      <td>5.298317</td>\n",
       "      <td>26</td>\n",
       "      <td>152800</td>\n",
       "      <td>63</td>\n",
       "    </tr>\n",
       "    <tr>\n",
       "      <th>0</th>\n",
       "      <td>3.912023</td>\n",
       "      <td>1</td>\n",
       "      <td>190400</td>\n",
       "      <td>15</td>\n",
       "    </tr>\n",
       "  </tbody>\n",
       "</table>\n",
       "</div>"
      ],
      "text/plain": [
       "    Average_parking_rate_month  City  Number_of_weekly_riders  price_per_week\n",
       "6                     4.317488     7                   175200              30\n",
       "12                    4.605170    13                   161600              40\n",
       "4                     4.248495     5                   178400              25\n",
       "25                    5.298317    26                   152800              63\n",
       "0                     3.912023     1                   190400              15"
      ]
     },
     "execution_count": 63,
     "metadata": {},
     "output_type": "execute_result"
    }
   ],
   "source": [
    "df =df = df.head().drop(['Population_of_city'],axis=1) # axix=1  means column index\n",
    "df.head()"
   ]
  },
  {
   "cell_type": "code",
   "execution_count": 64,
   "metadata": {},
   "outputs": [
    {
     "data": {
      "text/plain": [
       "City                       304.592077\n",
       "Number_of_weekly_riders     82.616828\n",
       "price_per_week             608.189936\n",
       "dtype: float64"
      ]
     },
     "execution_count": 64,
     "metadata": {},
     "output_type": "execute_result"
    }
   ],
   "source": [
    "X1=df.drop(['Average_parking_rate_month'],axis=1)\n",
    "series_before = pd.Series([variance_inflation_factor(X1.values, i) \n",
    "                           for i in range(X1.shape[1])],  # i=0,1,2\n",
    "                          index=X1.columns)  # column name\n",
    "series_before"
   ]
  },
  {
   "cell_type": "code",
   "execution_count": 65,
   "metadata": {},
   "outputs": [
    {
     "data": {
      "text/html": [
       "<div>\n",
       "<style scoped>\n",
       "    .dataframe tbody tr th:only-of-type {\n",
       "        vertical-align: middle;\n",
       "    }\n",
       "\n",
       "    .dataframe tbody tr th {\n",
       "        vertical-align: top;\n",
       "    }\n",
       "\n",
       "    .dataframe thead th {\n",
       "        text-align: right;\n",
       "    }\n",
       "</style>\n",
       "<table border=\"1\" class=\"dataframe\">\n",
       "  <thead>\n",
       "    <tr style=\"text-align: right;\">\n",
       "      <th></th>\n",
       "      <th>Average_parking_rate_month</th>\n",
       "      <th>City</th>\n",
       "      <th>Number_of_weekly_riders</th>\n",
       "    </tr>\n",
       "  </thead>\n",
       "  <tbody>\n",
       "    <tr>\n",
       "      <th>6</th>\n",
       "      <td>4.317488</td>\n",
       "      <td>7</td>\n",
       "      <td>175200</td>\n",
       "    </tr>\n",
       "    <tr>\n",
       "      <th>12</th>\n",
       "      <td>4.605170</td>\n",
       "      <td>13</td>\n",
       "      <td>161600</td>\n",
       "    </tr>\n",
       "    <tr>\n",
       "      <th>4</th>\n",
       "      <td>4.248495</td>\n",
       "      <td>5</td>\n",
       "      <td>178400</td>\n",
       "    </tr>\n",
       "    <tr>\n",
       "      <th>25</th>\n",
       "      <td>5.298317</td>\n",
       "      <td>26</td>\n",
       "      <td>152800</td>\n",
       "    </tr>\n",
       "    <tr>\n",
       "      <th>0</th>\n",
       "      <td>3.912023</td>\n",
       "      <td>1</td>\n",
       "      <td>190400</td>\n",
       "    </tr>\n",
       "  </tbody>\n",
       "</table>\n",
       "</div>"
      ],
      "text/plain": [
       "    Average_parking_rate_month  City  Number_of_weekly_riders\n",
       "6                     4.317488     7                   175200\n",
       "12                    4.605170    13                   161600\n",
       "4                     4.248495     5                   178400\n",
       "25                    5.298317    26                   152800\n",
       "0                     3.912023     1                   190400"
      ]
     },
     "execution_count": 65,
     "metadata": {},
     "output_type": "execute_result"
    }
   ],
   "source": [
    "df  = df.head().drop(['price_per_week'],axis=1) # axix=1  means column index\n",
    "df.head()"
   ]
  },
  {
   "cell_type": "code",
   "execution_count": 66,
   "metadata": {},
   "outputs": [
    {
     "data": {
      "text/plain": [
       "City                       2.062802\n",
       "Number_of_weekly_riders    2.062802\n",
       "dtype: float64"
      ]
     },
     "execution_count": 66,
     "metadata": {},
     "output_type": "execute_result"
    }
   ],
   "source": [
    "X1=df.drop(['Average_parking_rate_month'],axis=1)\n",
    "series_before = pd.Series([variance_inflation_factor(X1.values, i) \n",
    "                           for i in range(X1.shape[1])],  # i=0,1,2\n",
    "                          index=X1.columns)  # column name\n",
    "series_before"
   ]
  },
  {
   "cell_type": "markdown",
   "metadata": {},
   "source": [
    " *H0 :- There is no Linear relationship between Average_parking_rate_month and City, Number_of_weekly_riders\n",
    "\n",
    "                         Vs \n",
    "\n",
    "*  H1 :- There is  Linear relationship between Average_parking_rate_month and City, Number_of_weekly_riders\n",
    "\n",
    "\n",
    "Alpha = 0.05 (5%)"
   ]
  },
  {
   "cell_type": "code",
   "execution_count": 67,
   "metadata": {},
   "outputs": [
    {
     "name": "stderr",
     "output_type": "stream",
     "text": [
      "C:\\Users\\sneha\\anaconda3\\lib\\site-packages\\statsmodels\\stats\\stattools.py:74: ValueWarning: omni_normtest is not valid with less than 8 observations; 5 samples were given.\n",
      "  warn(\"omni_normtest is not valid with less than 8 observations; %i \"\n"
     ]
    },
    {
     "data": {
      "text/html": [
       "<table class=\"simpletable\">\n",
       "<caption>OLS Regression Results</caption>\n",
       "<tr>\n",
       "  <th>Dep. Variable:</th>    <td>Average_parking_rate_month</td> <th>  R-squared:         </th> <td>   0.994</td>\n",
       "</tr>\n",
       "<tr>\n",
       "  <th>Model:</th>                        <td>OLS</td>            <th>  Adj. R-squared:    </th> <td>   0.988</td>\n",
       "</tr>\n",
       "<tr>\n",
       "  <th>Method:</th>                  <td>Least Squares</td>       <th>  F-statistic:       </th> <td>   168.7</td>\n",
       "</tr>\n",
       "<tr>\n",
       "  <th>Date:</th>                  <td>Fri, 24 Feb 2023</td>      <th>  Prob (F-statistic):</th>  <td>0.00589</td>\n",
       "</tr>\n",
       "<tr>\n",
       "  <th>Time:</th>                      <td>16:02:25</td>          <th>  Log-Likelihood:    </th> <td>  9.5540</td>\n",
       "</tr>\n",
       "<tr>\n",
       "  <th>No. Observations:</th>           <td>     5</td>           <th>  AIC:               </th> <td>  -13.11</td>\n",
       "</tr>\n",
       "<tr>\n",
       "  <th>Df Residuals:</th>               <td>     2</td>           <th>  BIC:               </th> <td>  -14.28</td>\n",
       "</tr>\n",
       "<tr>\n",
       "  <th>Df Model:</th>                   <td>     2</td>           <th>                     </th>     <td> </td>   \n",
       "</tr>\n",
       "<tr>\n",
       "  <th>Covariance Type:</th>           <td>nonrobust</td>         <th>                     </th>     <td> </td>   \n",
       "</tr>\n",
       "</table>\n",
       "<table class=\"simpletable\">\n",
       "<tr>\n",
       "             <td></td>                <th>coef</th>     <th>std err</th>      <th>t</th>      <th>P>|t|</th>  <th>[0.025</th>    <th>0.975]</th>  \n",
       "</tr>\n",
       "<tr>\n",
       "  <th>Intercept</th>               <td>    4.8100</td> <td>    1.161</td> <td>    4.142</td> <td> 0.054</td> <td>   -0.186</td> <td>    9.806</td>\n",
       "</tr>\n",
       "<tr>\n",
       "  <th>City</th>                    <td>    0.0465</td> <td>    0.009</td> <td>    4.949</td> <td> 0.038</td> <td>    0.006</td> <td>    0.087</td>\n",
       "</tr>\n",
       "<tr>\n",
       "  <th>Number_of_weekly_riders</th> <td>-4.762e-06</td> <td> 6.22e-06</td> <td>   -0.766</td> <td> 0.524</td> <td>-3.15e-05</td> <td>  2.2e-05</td>\n",
       "</tr>\n",
       "</table>\n",
       "<table class=\"simpletable\">\n",
       "<tr>\n",
       "  <th>Omnibus:</th>       <td>   nan</td> <th>  Durbin-Watson:     </th> <td>   2.593</td>\n",
       "</tr>\n",
       "<tr>\n",
       "  <th>Prob(Omnibus):</th> <td>   nan</td> <th>  Jarque-Bera (JB):  </th> <td>   0.391</td>\n",
       "</tr>\n",
       "<tr>\n",
       "  <th>Skew:</th>          <td> 0.241</td> <th>  Prob(JB):          </th> <td>   0.822</td>\n",
       "</tr>\n",
       "<tr>\n",
       "  <th>Kurtosis:</th>      <td> 1.717</td> <th>  Cond. No.          </th> <td>7.90e+06</td>\n",
       "</tr>\n",
       "</table><br/><br/>Notes:<br/>[1] Standard Errors assume that the covariance matrix of the errors is correctly specified.<br/>[2] The condition number is large, 7.9e+06. This might indicate that there are<br/>strong multicollinearity or other numerical problems."
      ],
      "text/plain": [
       "<class 'statsmodels.iolib.summary.Summary'>\n",
       "\"\"\"\n",
       "                                OLS Regression Results                                \n",
       "======================================================================================\n",
       "Dep. Variable:     Average_parking_rate_month   R-squared:                       0.994\n",
       "Model:                                    OLS   Adj. R-squared:                  0.988\n",
       "Method:                         Least Squares   F-statistic:                     168.7\n",
       "Date:                        Fri, 24 Feb 2023   Prob (F-statistic):            0.00589\n",
       "Time:                                16:02:25   Log-Likelihood:                 9.5540\n",
       "No. Observations:                           5   AIC:                            -13.11\n",
       "Df Residuals:                               2   BIC:                            -14.28\n",
       "Df Model:                                   2                                         \n",
       "Covariance Type:                    nonrobust                                         \n",
       "===========================================================================================\n",
       "                              coef    std err          t      P>|t|      [0.025      0.975]\n",
       "-------------------------------------------------------------------------------------------\n",
       "Intercept                   4.8100      1.161      4.142      0.054      -0.186       9.806\n",
       "City                        0.0465      0.009      4.949      0.038       0.006       0.087\n",
       "Number_of_weekly_riders -4.762e-06   6.22e-06     -0.766      0.524   -3.15e-05     2.2e-05\n",
       "==============================================================================\n",
       "Omnibus:                          nan   Durbin-Watson:                   2.593\n",
       "Prob(Omnibus):                    nan   Jarque-Bera (JB):                0.391\n",
       "Skew:                           0.241   Prob(JB):                        0.822\n",
       "Kurtosis:                       1.717   Cond. No.                     7.90e+06\n",
       "==============================================================================\n",
       "\n",
       "Notes:\n",
       "[1] Standard Errors assume that the covariance matrix of the errors is correctly specified.\n",
       "[2] The condition number is large, 7.9e+06. This might indicate that there are\n",
       "strong multicollinearity or other numerical problems.\n",
       "\"\"\""
      ]
     },
     "execution_count": 67,
     "metadata": {},
     "output_type": "execute_result"
    }
   ],
   "source": [
    "import statsmodels.formula.api as smf\n",
    "model = smf.ols('Average_parking_rate_month ~ City+Number_of_weekly_riders',data=df).fit()\n",
    "model.summary()"
   ]
  },
  {
   "cell_type": "code",
   "execution_count": 68,
   "metadata": {},
   "outputs": [
    {
     "data": {
      "text/html": [
       "<div>\n",
       "<style scoped>\n",
       "    .dataframe tbody tr th:only-of-type {\n",
       "        vertical-align: middle;\n",
       "    }\n",
       "\n",
       "    .dataframe tbody tr th {\n",
       "        vertical-align: top;\n",
       "    }\n",
       "\n",
       "    .dataframe thead th {\n",
       "        text-align: right;\n",
       "    }\n",
       "</style>\n",
       "<table border=\"1\" class=\"dataframe\">\n",
       "  <thead>\n",
       "    <tr style=\"text-align: right;\">\n",
       "      <th></th>\n",
       "      <th>Average_parking_rate_month</th>\n",
       "      <th>City</th>\n",
       "    </tr>\n",
       "  </thead>\n",
       "  <tbody>\n",
       "    <tr>\n",
       "      <th>6</th>\n",
       "      <td>4.317488</td>\n",
       "      <td>7</td>\n",
       "    </tr>\n",
       "    <tr>\n",
       "      <th>12</th>\n",
       "      <td>4.605170</td>\n",
       "      <td>13</td>\n",
       "    </tr>\n",
       "    <tr>\n",
       "      <th>4</th>\n",
       "      <td>4.248495</td>\n",
       "      <td>5</td>\n",
       "    </tr>\n",
       "    <tr>\n",
       "      <th>25</th>\n",
       "      <td>5.298317</td>\n",
       "      <td>26</td>\n",
       "    </tr>\n",
       "    <tr>\n",
       "      <th>0</th>\n",
       "      <td>3.912023</td>\n",
       "      <td>1</td>\n",
       "    </tr>\n",
       "  </tbody>\n",
       "</table>\n",
       "</div>"
      ],
      "text/plain": [
       "    Average_parking_rate_month  City\n",
       "6                     4.317488     7\n",
       "12                    4.605170    13\n",
       "4                     4.248495     5\n",
       "25                    5.298317    26\n",
       "0                     3.912023     1"
      ]
     },
     "execution_count": 68,
     "metadata": {},
     "output_type": "execute_result"
    }
   ],
   "source": [
    "df = df.head().drop('Number_of_weekly_riders',axis=1) # axix=1  means column index\n",
    "df.head()"
   ]
  },
  {
   "cell_type": "code",
   "execution_count": 69,
   "metadata": {},
   "outputs": [
    {
     "name": "stderr",
     "output_type": "stream",
     "text": [
      "C:\\Users\\sneha\\anaconda3\\lib\\site-packages\\statsmodels\\stats\\stattools.py:74: ValueWarning: omni_normtest is not valid with less than 8 observations; 5 samples were given.\n",
      "  warn(\"omni_normtest is not valid with less than 8 observations; %i \"\n"
     ]
    },
    {
     "data": {
      "text/html": [
       "<table class=\"simpletable\">\n",
       "<caption>OLS Regression Results</caption>\n",
       "<tr>\n",
       "  <th>Dep. Variable:</th>    <td>Average_parking_rate_month</td> <th>  R-squared:         </th> <td>   0.992</td>\n",
       "</tr>\n",
       "<tr>\n",
       "  <th>Model:</th>                        <td>OLS</td>            <th>  Adj. R-squared:    </th> <td>   0.990</td>\n",
       "</tr>\n",
       "<tr>\n",
       "  <th>Method:</th>                  <td>Least Squares</td>       <th>  F-statistic:       </th> <td>   390.8</td>\n",
       "</tr>\n",
       "<tr>\n",
       "  <th>Date:</th>                  <td>Fri, 24 Feb 2023</td>      <th>  Prob (F-statistic):</th> <td>0.000283</td>\n",
       "</tr>\n",
       "<tr>\n",
       "  <th>Time:</th>                      <td>16:02:25</td>          <th>  Log-Likelihood:    </th> <td>  8.9113</td>\n",
       "</tr>\n",
       "<tr>\n",
       "  <th>No. Observations:</th>           <td>     5</td>           <th>  AIC:               </th> <td>  -13.82</td>\n",
       "</tr>\n",
       "<tr>\n",
       "  <th>Df Residuals:</th>               <td>     3</td>           <th>  BIC:               </th> <td>  -14.60</td>\n",
       "</tr>\n",
       "<tr>\n",
       "  <th>Df Model:</th>                   <td>     1</td>           <th>                     </th>     <td> </td>   \n",
       "</tr>\n",
       "<tr>\n",
       "  <th>Covariance Type:</th>           <td>nonrobust</td>         <th>                     </th>     <td> </td>   \n",
       "</tr>\n",
       "</table>\n",
       "<table class=\"simpletable\">\n",
       "<tr>\n",
       "      <td></td>         <th>coef</th>     <th>std err</th>      <th>t</th>      <th>P>|t|</th>  <th>[0.025</th>    <th>0.975]</th>  \n",
       "</tr>\n",
       "<tr>\n",
       "  <th>Intercept</th> <td>    3.9214</td> <td>    0.037</td> <td>  107.103</td> <td> 0.000</td> <td>    3.805</td> <td>    4.038</td>\n",
       "</tr>\n",
       "<tr>\n",
       "  <th>City</th>      <td>    0.0534</td> <td>    0.003</td> <td>   19.768</td> <td> 0.000</td> <td>    0.045</td> <td>    0.062</td>\n",
       "</tr>\n",
       "</table>\n",
       "<table class=\"simpletable\">\n",
       "<tr>\n",
       "  <th>Omnibus:</th>       <td>   nan</td> <th>  Durbin-Watson:     </th> <td>   1.655</td>\n",
       "</tr>\n",
       "<tr>\n",
       "  <th>Prob(Omnibus):</th> <td>   nan</td> <th>  Jarque-Bera (JB):  </th> <td>   0.167</td>\n",
       "</tr>\n",
       "<tr>\n",
       "  <th>Skew:</th>          <td>-0.053</td> <th>  Prob(JB):          </th> <td>   0.920</td>\n",
       "</tr>\n",
       "<tr>\n",
       "  <th>Kurtosis:</th>      <td> 2.111</td> <th>  Cond. No.          </th> <td>    21.2</td>\n",
       "</tr>\n",
       "</table><br/><br/>Notes:<br/>[1] Standard Errors assume that the covariance matrix of the errors is correctly specified."
      ],
      "text/plain": [
       "<class 'statsmodels.iolib.summary.Summary'>\n",
       "\"\"\"\n",
       "                                OLS Regression Results                                \n",
       "======================================================================================\n",
       "Dep. Variable:     Average_parking_rate_month   R-squared:                       0.992\n",
       "Model:                                    OLS   Adj. R-squared:                  0.990\n",
       "Method:                         Least Squares   F-statistic:                     390.8\n",
       "Date:                        Fri, 24 Feb 2023   Prob (F-statistic):           0.000283\n",
       "Time:                                16:02:25   Log-Likelihood:                 8.9113\n",
       "No. Observations:                           5   AIC:                            -13.82\n",
       "Df Residuals:                               3   BIC:                            -14.60\n",
       "Df Model:                                   1                                         \n",
       "Covariance Type:                    nonrobust                                         \n",
       "==============================================================================\n",
       "                 coef    std err          t      P>|t|      [0.025      0.975]\n",
       "------------------------------------------------------------------------------\n",
       "Intercept      3.9214      0.037    107.103      0.000       3.805       4.038\n",
       "City           0.0534      0.003     19.768      0.000       0.045       0.062\n",
       "==============================================================================\n",
       "Omnibus:                          nan   Durbin-Watson:                   1.655\n",
       "Prob(Omnibus):                    nan   Jarque-Bera (JB):                0.167\n",
       "Skew:                          -0.053   Prob(JB):                        0.920\n",
       "Kurtosis:                       2.111   Cond. No.                         21.2\n",
       "==============================================================================\n",
       "\n",
       "Notes:\n",
       "[1] Standard Errors assume that the covariance matrix of the errors is correctly specified.\n",
       "\"\"\""
      ]
     },
     "execution_count": 69,
     "metadata": {},
     "output_type": "execute_result"
    }
   ],
   "source": [
    "# removing the insignificant variable \n",
    "model2=smf.ols('Average_parking_rate_month ~ City',data=df).fit()\n",
    "model2.summary()"
   ]
  },
  {
   "cell_type": "code",
   "execution_count": 70,
   "metadata": {},
   "outputs": [],
   "source": [
    "# There is Linear relationship between Average_parking_rate_month and City\n",
    "# 97% is accuracy of model , so we say model is good fit \n",
    "# Y = 36.5506 +6.0047 * city"
   ]
  },
  {
   "cell_type": "markdown",
   "metadata": {},
   "source": [
    "*Assumption of Model\n",
    "*Linearity\n",
    "*Normality\n",
    "*Homoscedasicity\n",
    "*Model Error has to be independently identificaly Distibuted"
   ]
  },
  {
   "cell_type": "code",
   "execution_count": 71,
   "metadata": {},
   "outputs": [
    {
     "data": {
      "text/html": [
       "<div>\n",
       "<style scoped>\n",
       "    .dataframe tbody tr th:only-of-type {\n",
       "        vertical-align: middle;\n",
       "    }\n",
       "\n",
       "    .dataframe tbody tr th {\n",
       "        vertical-align: top;\n",
       "    }\n",
       "\n",
       "    .dataframe thead th {\n",
       "        text-align: right;\n",
       "    }\n",
       "</style>\n",
       "<table border=\"1\" class=\"dataframe\">\n",
       "  <thead>\n",
       "    <tr style=\"text-align: right;\">\n",
       "      <th></th>\n",
       "      <th>Average_parking_rate_month</th>\n",
       "      <th>City</th>\n",
       "    </tr>\n",
       "  </thead>\n",
       "  <tbody>\n",
       "    <tr>\n",
       "      <th>6</th>\n",
       "      <td>4.317488</td>\n",
       "      <td>7</td>\n",
       "    </tr>\n",
       "    <tr>\n",
       "      <th>12</th>\n",
       "      <td>4.605170</td>\n",
       "      <td>13</td>\n",
       "    </tr>\n",
       "    <tr>\n",
       "      <th>4</th>\n",
       "      <td>4.248495</td>\n",
       "      <td>5</td>\n",
       "    </tr>\n",
       "    <tr>\n",
       "      <th>25</th>\n",
       "      <td>5.298317</td>\n",
       "      <td>26</td>\n",
       "    </tr>\n",
       "    <tr>\n",
       "      <th>0</th>\n",
       "      <td>3.912023</td>\n",
       "      <td>1</td>\n",
       "    </tr>\n",
       "  </tbody>\n",
       "</table>\n",
       "</div>"
      ],
      "text/plain": [
       "    Average_parking_rate_month  City\n",
       "6                     4.317488     7\n",
       "12                    4.605170    13\n",
       "4                     4.248495     5\n",
       "25                    5.298317    26\n",
       "0                     3.912023     1"
      ]
     },
     "execution_count": 71,
     "metadata": {},
     "output_type": "execute_result"
    }
   ],
   "source": [
    "df.head()"
   ]
  },
  {
   "cell_type": "code",
   "execution_count": 72,
   "metadata": {},
   "outputs": [
    {
     "data": {
      "text/plain": [
       "192.6728"
      ]
     },
     "execution_count": 72,
     "metadata": {},
     "output_type": "execute_result"
    }
   ],
   "source": [
    "Y = 36.5506 +6.0047 * 26\n",
    "Y"
   ]
  },
  {
   "cell_type": "code",
   "execution_count": 73,
   "metadata": {},
   "outputs": [
    {
     "data": {
      "text/html": [
       "<div>\n",
       "<style scoped>\n",
       "    .dataframe tbody tr th:only-of-type {\n",
       "        vertical-align: middle;\n",
       "    }\n",
       "\n",
       "    .dataframe tbody tr th {\n",
       "        vertical-align: top;\n",
       "    }\n",
       "\n",
       "    .dataframe thead th {\n",
       "        text-align: right;\n",
       "    }\n",
       "</style>\n",
       "<table border=\"1\" class=\"dataframe\">\n",
       "  <thead>\n",
       "    <tr style=\"text-align: right;\">\n",
       "      <th></th>\n",
       "      <th>Average_parking_rate_month</th>\n",
       "      <th>City</th>\n",
       "      <th>fitted_value</th>\n",
       "      <th>residual</th>\n",
       "    </tr>\n",
       "  </thead>\n",
       "  <tbody>\n",
       "    <tr>\n",
       "      <th>6</th>\n",
       "      <td>4.317488</td>\n",
       "      <td>7</td>\n",
       "      <td>4.294886</td>\n",
       "      <td>0.022602</td>\n",
       "    </tr>\n",
       "    <tr>\n",
       "      <th>12</th>\n",
       "      <td>4.605170</td>\n",
       "      <td>13</td>\n",
       "      <td>4.615026</td>\n",
       "      <td>-0.009856</td>\n",
       "    </tr>\n",
       "    <tr>\n",
       "      <th>4</th>\n",
       "      <td>4.248495</td>\n",
       "      <td>5</td>\n",
       "      <td>4.188173</td>\n",
       "      <td>0.060322</td>\n",
       "    </tr>\n",
       "    <tr>\n",
       "      <th>25</th>\n",
       "      <td>5.298317</td>\n",
       "      <td>26</td>\n",
       "      <td>5.308663</td>\n",
       "      <td>-0.010345</td>\n",
       "    </tr>\n",
       "    <tr>\n",
       "      <th>0</th>\n",
       "      <td>3.912023</td>\n",
       "      <td>1</td>\n",
       "      <td>3.974746</td>\n",
       "      <td>-0.062723</td>\n",
       "    </tr>\n",
       "  </tbody>\n",
       "</table>\n",
       "</div>"
      ],
      "text/plain": [
       "    Average_parking_rate_month  City  fitted_value  residual\n",
       "6                     4.317488     7      4.294886  0.022602\n",
       "12                    4.605170    13      4.615026 -0.009856\n",
       "4                     4.248495     5      4.188173  0.060322\n",
       "25                    5.298317    26      5.308663 -0.010345\n",
       "0                     3.912023     1      3.974746 -0.062723"
      ]
     },
     "execution_count": 73,
     "metadata": {},
     "output_type": "execute_result"
    }
   ],
   "source": [
    "df['fitted_value']=model2.fittedvalues #Predicted Value\n",
    "df['residual']=model2.resid  #Error\n",
    "df.head()"
   ]
  },
  {
   "cell_type": "code",
   "execution_count": 74,
   "metadata": {},
   "outputs": [
    {
     "data": {
      "text/plain": [
       "<AxesSubplot:title={'center':'Average_parking_rate_month vs City'}, xlabel='City', ylabel='Average_parking_rate_month'>"
      ]
     },
     "execution_count": 74,
     "metadata": {},
     "output_type": "execute_result"
    },
    {
     "data": {
      "image/png": "[encoded data removed]",
      "text/plain": [
       "<Figure size 640x480 with 1 Axes>"
      ]
     },
     "metadata": {},
     "output_type": "display_data"
    }
   ],
   "source": [
    "df.plot.scatter(x='City', y='Average_parking_rate_month', title='Average_parking_rate_month vs City')"
   ]
  },
  {
   "cell_type": "markdown",
   "metadata": {},
   "source": [
    "### Normality"
   ]
  },
  {
   "cell_type": "code",
   "execution_count": 75,
   "metadata": {},
   "outputs": [
    {
     "data": {
      "image/png": "[encoded data removed]",
      "text/plain": [
       "<Figure size 640x480 with 1 Axes>"
      ]
     },
     "metadata": {},
     "output_type": "display_data"
    }
   ],
   "source": [
    "import statsmodels.api as sm\n",
    "fig = sm.qqplot(df['residual'], fit=True, line='s') \n",
    "plt.show()"
   ]
  },
  {
   "cell_type": "code",
   "execution_count": 76,
   "metadata": {},
   "outputs": [
    {
     "data": {
      "text/plain": [
       "<AxesSubplot:ylabel='Frequency'>"
      ]
     },
     "execution_count": 76,
     "metadata": {},
     "output_type": "execute_result"
    },
    {
     "data": {
      "image/png": "[encoded data removed]",
      "text/plain": [
       "<Figure size 640x480 with 1 Axes>"
      ]
     },
     "metadata": {},
     "output_type": "display_data"
    }
   ],
   "source": [
    "df['residual'].plot.hist()"
   ]
  },
  {
   "cell_type": "markdown",
   "metadata": {},
   "source": [
    "### Prediction on Test Data"
   ]
  },
  {
   "cell_type": "code",
   "execution_count": 77,
   "metadata": {},
   "outputs": [
    {
     "data": {
      "text/html": [
       "<div>\n",
       "<style scoped>\n",
       "    .dataframe tbody tr th:only-of-type {\n",
       "        vertical-align: middle;\n",
       "    }\n",
       "\n",
       "    .dataframe tbody tr th {\n",
       "        vertical-align: top;\n",
       "    }\n",
       "\n",
       "    .dataframe thead th {\n",
       "        text-align: right;\n",
       "    }\n",
       "</style>\n",
       "<table border=\"1\" class=\"dataframe\">\n",
       "  <thead>\n",
       "    <tr style=\"text-align: right;\">\n",
       "      <th></th>\n",
       "      <th>City</th>\n",
       "      <th>Number_of_weekly_riders</th>\n",
       "      <th>price_per_week</th>\n",
       "      <th>Population_of_city</th>\n",
       "      <th>Monthly_income_of_rider</th>\n",
       "      <th>Average_parking_rate_month</th>\n",
       "    </tr>\n",
       "  </thead>\n",
       "  <tbody>\n",
       "    <tr>\n",
       "      <th>9</th>\n",
       "      <td>10</td>\n",
       "      <td>172800</td>\n",
       "      <td>30</td>\n",
       "      <td>1710000</td>\n",
       "      <td>9630</td>\n",
       "      <td>4.382027</td>\n",
       "    </tr>\n",
       "    <tr>\n",
       "      <th>22</th>\n",
       "      <td>23</td>\n",
       "      <td>123888</td>\n",
       "      <td>98</td>\n",
       "      <td>1595000</td>\n",
       "      <td>15200</td>\n",
       "      <td>5.164786</td>\n",
       "    </tr>\n",
       "    <tr>\n",
       "      <th>13</th>\n",
       "      <td>14</td>\n",
       "      <td>160800</td>\n",
       "      <td>40</td>\n",
       "      <td>1690000</td>\n",
       "      <td>11800</td>\n",
       "      <td>4.653960</td>\n",
       "    </tr>\n",
       "    <tr>\n",
       "      <th>11</th>\n",
       "      <td>12</td>\n",
       "      <td>161600</td>\n",
       "      <td>40</td>\n",
       "      <td>1695000</td>\n",
       "      <td>11330</td>\n",
       "      <td>4.442651</td>\n",
       "    </tr>\n",
       "    <tr>\n",
       "      <th>5</th>\n",
       "      <td>6</td>\n",
       "      <td>180800</td>\n",
       "      <td>25</td>\n",
       "      <td>1725000</td>\n",
       "      <td>8200</td>\n",
       "      <td>4.317488</td>\n",
       "    </tr>\n",
       "  </tbody>\n",
       "</table>\n",
       "</div>"
      ],
      "text/plain": [
       "    City  Number_of_weekly_riders  price_per_week  Population_of_city  \\\n",
       "9     10                   172800              30             1710000   \n",
       "22    23                   123888              98             1595000   \n",
       "13    14                   160800              40             1690000   \n",
       "11    12                   161600              40             1695000   \n",
       "5      6                   180800              25             1725000   \n",
       "\n",
       "    Monthly_income_of_rider  Average_parking_rate_month  \n",
       "9                      9630                    4.382027  \n",
       "22                    15200                    5.164786  \n",
       "13                    11800                    4.653960  \n",
       "11                    11330                    4.442651  \n",
       "5                      8200                    4.317488  "
      ]
     },
     "execution_count": 77,
     "metadata": {},
     "output_type": "execute_result"
    }
   ],
   "source": [
    "df_test=pd.concat([X_test,y_test],axis=1)\n",
    "\n",
    "df_test.head()"
   ]
  },
  {
   "cell_type": "code",
   "execution_count": 78,
   "metadata": {},
   "outputs": [
    {
     "data": {
      "text/html": [
       "<div>\n",
       "<style scoped>\n",
       "    .dataframe tbody tr th:only-of-type {\n",
       "        vertical-align: middle;\n",
       "    }\n",
       "\n",
       "    .dataframe tbody tr th {\n",
       "        vertical-align: top;\n",
       "    }\n",
       "\n",
       "    .dataframe thead th {\n",
       "        text-align: right;\n",
       "    }\n",
       "</style>\n",
       "<table border=\"1\" class=\"dataframe\">\n",
       "  <thead>\n",
       "    <tr style=\"text-align: right;\">\n",
       "      <th></th>\n",
       "      <th>City</th>\n",
       "      <th>Number_of_weekly_riders</th>\n",
       "      <th>price_per_week</th>\n",
       "      <th>Population_of_city</th>\n",
       "      <th>Monthly_income_of_rider</th>\n",
       "      <th>Average_parking_rate_month</th>\n",
       "      <th>Prediction</th>\n",
       "    </tr>\n",
       "  </thead>\n",
       "  <tbody>\n",
       "    <tr>\n",
       "      <th>9</th>\n",
       "      <td>10</td>\n",
       "      <td>172800</td>\n",
       "      <td>30</td>\n",
       "      <td>1710000</td>\n",
       "      <td>9630</td>\n",
       "      <td>4.382027</td>\n",
       "      <td>4.454956</td>\n",
       "    </tr>\n",
       "    <tr>\n",
       "      <th>22</th>\n",
       "      <td>23</td>\n",
       "      <td>123888</td>\n",
       "      <td>98</td>\n",
       "      <td>1595000</td>\n",
       "      <td>15200</td>\n",
       "      <td>5.164786</td>\n",
       "      <td>5.148593</td>\n",
       "    </tr>\n",
       "    <tr>\n",
       "      <th>13</th>\n",
       "      <td>14</td>\n",
       "      <td>160800</td>\n",
       "      <td>40</td>\n",
       "      <td>1690000</td>\n",
       "      <td>11800</td>\n",
       "      <td>4.653960</td>\n",
       "      <td>4.668383</td>\n",
       "    </tr>\n",
       "    <tr>\n",
       "      <th>11</th>\n",
       "      <td>12</td>\n",
       "      <td>161600</td>\n",
       "      <td>40</td>\n",
       "      <td>1695000</td>\n",
       "      <td>11330</td>\n",
       "      <td>4.442651</td>\n",
       "      <td>4.561669</td>\n",
       "    </tr>\n",
       "    <tr>\n",
       "      <th>5</th>\n",
       "      <td>6</td>\n",
       "      <td>180800</td>\n",
       "      <td>25</td>\n",
       "      <td>1725000</td>\n",
       "      <td>8200</td>\n",
       "      <td>4.317488</td>\n",
       "      <td>4.241530</td>\n",
       "    </tr>\n",
       "  </tbody>\n",
       "</table>\n",
       "</div>"
      ],
      "text/plain": [
       "    City  Number_of_weekly_riders  price_per_week  Population_of_city  \\\n",
       "9     10                   172800              30             1710000   \n",
       "22    23                   123888              98             1595000   \n",
       "13    14                   160800              40             1690000   \n",
       "11    12                   161600              40             1695000   \n",
       "5      6                   180800              25             1725000   \n",
       "\n",
       "    Monthly_income_of_rider  Average_parking_rate_month  Prediction  \n",
       "9                      9630                    4.382027    4.454956  \n",
       "22                    15200                    5.164786    5.148593  \n",
       "13                    11800                    4.653960    4.668383  \n",
       "11                    11330                    4.442651    4.561669  \n",
       "5                      8200                    4.317488    4.241530  "
      ]
     },
     "execution_count": 78,
     "metadata": {},
     "output_type": "execute_result"
    }
   ],
   "source": [
    "df_test['Prediction']=model2.predict(df_test) \n",
    "df_test.head()"
   ]
  },
  {
   "cell_type": "code",
   "execution_count": 79,
   "metadata": {},
   "outputs": [
    {
     "data": {
      "text/plain": [
       "120.6164"
      ]
     },
     "execution_count": 79,
     "metadata": {},
     "output_type": "execute_result"
    }
   ],
   "source": [
    "Y = 36.5506 +6.0047 * 14\n",
    "Y"
   ]
  },
  {
   "cell_type": "code",
   "execution_count": 80,
   "metadata": {},
   "outputs": [
    {
     "name": "stdout",
     "output_type": "stream",
     "text": [
      "R2 score for model Performance on Test 0.97\n"
     ]
    }
   ],
   "source": [
    "from sklearn.metrics import r2_score\n",
    "r2 = r2_score(df_test.Average_parking_rate_month, df_test.Prediction)\n",
    "print('R2 score for model Performance on Test', np.round(r2,2))"
   ]
  },
  {
   "cell_type": "code",
   "execution_count": 81,
   "metadata": {},
   "outputs": [
    {
     "name": "stdout",
     "output_type": "stream",
     "text": [
      "R2 score for model Performance on train 0.99\n"
     ]
    }
   ],
   "source": [
    "from sklearn.metrics import r2_score\n",
    "r2 = r2_score(df.Average_parking_rate_month, df.fitted_value)\n",
    "print('R2 score for model Performance on train', np.round(r2,2))"
   ]
  },
  {
   "cell_type": "code",
   "execution_count": 82,
   "metadata": {},
   "outputs": [
    {
     "name": "stdout",
     "output_type": "stream",
     "text": [
      "RMSE 0.0407\n"
     ]
    }
   ],
   "source": [
    "import math\n",
    "from sklearn.metrics import mean_squared_error\n",
    "# calculate the mean squared error\n",
    "model_mse = mean_squared_error(df['Average_parking_rate_month'], df['fitted_value'])\n",
    "model_rmse = math.sqrt(model_mse)\n",
    "print(\"RMSE {:.3}\".format(model_rmse))"
   ]
  },
  {
   "cell_type": "code",
   "execution_count": 83,
   "metadata": {},
   "outputs": [
    {
     "name": "stdout",
     "output_type": "stream",
     "text": [
      "RMSE 0.0589\n"
     ]
    }
   ],
   "source": [
    "import math\n",
    "from sklearn.metrics import mean_squared_error\n",
    "# calculate the mean squared error\n",
    "model_mse = mean_squared_error(df_test['Average_parking_rate_month'], df_test['Prediction'])\n",
    "model_rmse = math.sqrt(model_mse)\n",
    "print(\"RMSE {:.3}\".format(model_rmse))"
   ]
  },
  {
   "cell_type": "code",
   "execution_count": null,
   "metadata": {},
   "outputs": [],
   "source": []
  },
  {
   "cell_type": "code",
   "execution_count": 84,
   "metadata": {},
   "outputs": [
    {
     "data": {
      "text/html": [
       "<div>\n",
       "<style scoped>\n",
       "    .dataframe tbody tr th:only-of-type {\n",
       "        vertical-align: middle;\n",
       "    }\n",
       "\n",
       "    .dataframe tbody tr th {\n",
       "        vertical-align: top;\n",
       "    }\n",
       "\n",
       "    .dataframe thead th {\n",
       "        text-align: right;\n",
       "    }\n",
       "</style>\n",
       "<table border=\"1\" class=\"dataframe\">\n",
       "  <thead>\n",
       "    <tr style=\"text-align: right;\">\n",
       "      <th></th>\n",
       "      <th>Customer</th>\n",
       "      <th>City</th>\n",
       "      <th>Number_of_weekly_riders</th>\n",
       "    </tr>\n",
       "  </thead>\n",
       "  <tbody>\n",
       "    <tr>\n",
       "      <th>0</th>\n",
       "      <td>MANALI</td>\n",
       "      <td>12</td>\n",
       "      <td>161600</td>\n",
       "    </tr>\n",
       "    <tr>\n",
       "      <th>1</th>\n",
       "      <td>SHIVAM</td>\n",
       "      <td>21</td>\n",
       "      <td>170010</td>\n",
       "    </tr>\n",
       "    <tr>\n",
       "      <th>2</th>\n",
       "      <td>KOMAL</td>\n",
       "      <td>27</td>\n",
       "      <td>193788</td>\n",
       "    </tr>\n",
       "  </tbody>\n",
       "</table>\n",
       "</div>"
      ],
      "text/plain": [
       "  Customer  City  Number_of_weekly_riders\n",
       "0   MANALI    12                   161600\n",
       "1   SHIVAM    21                   170010\n",
       "2    KOMAL    27                   193788"
      ]
     },
     "execution_count": 84,
     "metadata": {},
     "output_type": "execute_result"
    }
   ],
   "source": [
    "d1 = {'Customer':pd.Series(['MANALI','SHIVAM','KOMAL']),\n",
    "      'City': pd.Series([12, 21, 27]),\n",
    "      'Number_of_weekly_riders':([161600, 170010, 193788])\n",
    "     }\n",
    "live = pd.DataFrame(d1)\n",
    "live"
   ]
  },
  {
   "cell_type": "code",
   "execution_count": 85,
   "metadata": {},
   "outputs": [
    {
     "data": {
      "text/html": [
       "<div>\n",
       "<style scoped>\n",
       "    .dataframe tbody tr th:only-of-type {\n",
       "        vertical-align: middle;\n",
       "    }\n",
       "\n",
       "    .dataframe tbody tr th {\n",
       "        vertical-align: top;\n",
       "    }\n",
       "\n",
       "    .dataframe thead th {\n",
       "        text-align: right;\n",
       "    }\n",
       "</style>\n",
       "<table border=\"1\" class=\"dataframe\">\n",
       "  <thead>\n",
       "    <tr style=\"text-align: right;\">\n",
       "      <th></th>\n",
       "      <th>Customer</th>\n",
       "      <th>City</th>\n",
       "      <th>Number_of_weekly_riders</th>\n",
       "      <th>future Prediction</th>\n",
       "    </tr>\n",
       "  </thead>\n",
       "  <tbody>\n",
       "    <tr>\n",
       "      <th>0</th>\n",
       "      <td>MANALI</td>\n",
       "      <td>12</td>\n",
       "      <td>161600</td>\n",
       "      <td>4.60</td>\n",
       "    </tr>\n",
       "    <tr>\n",
       "      <th>1</th>\n",
       "      <td>SHIVAM</td>\n",
       "      <td>21</td>\n",
       "      <td>170010</td>\n",
       "      <td>4.98</td>\n",
       "    </tr>\n",
       "    <tr>\n",
       "      <th>2</th>\n",
       "      <td>KOMAL</td>\n",
       "      <td>27</td>\n",
       "      <td>193788</td>\n",
       "      <td>5.14</td>\n",
       "    </tr>\n",
       "  </tbody>\n",
       "</table>\n",
       "</div>"
      ],
      "text/plain": [
       "  Customer  City  Number_of_weekly_riders  future Prediction\n",
       "0   MANALI    12                   161600               4.60\n",
       "1   SHIVAM    21                   170010               4.98\n",
       "2    KOMAL    27                   193788               5.14"
      ]
     },
     "execution_count": 85,
     "metadata": {},
     "output_type": "execute_result"
    }
   ],
   "source": [
    "live['future Prediction']=np.round(model.predict(live),2)\n",
    "live"
   ]
  }
 ],
 "metadata": {
  "colab": {
   "provenance": []
  },
  "kernelspec": {
   "display_name": "Python 3 (ipykernel)",
   "language": "python",
   "name": "python3"
  },
  "language_info": {
   "codemirror_mode": {
    "name": "ipython",
    "version": 3
   },
   "file_extension": ".py",
   "mimetype": "text/x-python",
   "name": "python",
   "nbconvert_exporter": "python",
   "pygments_lexer": "ipython3",
   "version": "3.9.13"
  }
 },
 "nbformat": 4,
 "nbformat_minor": 1
}
